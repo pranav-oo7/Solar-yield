{
  "cells": [
    {
      "cell_type": "markdown",
      "metadata": {},
      "source": [
        "# Solar Yield Notebook \u2014 Visualized\n\nThis notebook shows the basic solar yield numbers and visualizations for the 3 kW example system.\nReplace the annual_kwh with your measured value or the one from your Colab output.\n"
      ]
    },
    {
      "cell_type": "code",
      "execution_count": null,
      "metadata": {},
      "outputs": [],
      "source": [
        "import pandas as pd\nimport numpy as np\nimport matplotlib.pyplot as plt\n\n# User-editable values\nannual_kwh = 4206\nsystem_capacity_kw = 3.0\n\n# Example monthly distribution (sums to annual_kwh)\nmonthly_fraction = np.array([0.075,0.075,0.085,0.095,0.11,0.09,0.06,0.06,0.07,0.085,0.08,0.095])\nmonthly_fraction = monthly_fraction / monthly_fraction.sum()\nmonthly_kwh = (monthly_fraction * annual_kwh).round(1)\nmonths = ['Jan','Feb','Mar','Apr','May','Jun','Jul','Aug','Sep','Oct','Nov','Dec']\nmonthly_series = pd.Series(monthly_kwh, index=months)\n\nprint('Annual kWh (used):', annual_kwh)\nprint('Monthly series sum (sanity):', monthly_series.sum())\n"
      ]
    },
    {
      "cell_type": "code",
      "execution_count": null,
      "metadata": {},
      "outputs": [],
      "source": [
        "# Monthly production bar chart\nplt.figure(figsize=(10,5))\nmonthly_series.plot(kind='bar')\nplt.ylabel('Energy (kWh)')\nplt.title(f'Estimated monthly production \u2014 {system_capacity_kw} kW system (Annual {annual_kwh} kWh)')\nplt.tight_layout()\nout_png = 'monthly_production_plot.png'\nplt.savefig(out_png, dpi=150)\nplt.show()\nprint('Saved', out_png)\n"
      ]
    },
    {
      "cell_type": "code",
      "execution_count": null,
      "metadata": {},
      "outputs": [],
      "source": [
        "# Compute savings and CO2 avoided and plot savings\ntariff_rates = {'Low (\u20b92.03/kWh)':2.03, 'Mid (\u20b96.50/kWh)':6.50, 'High (\u20b911.00/kWh)':11.00}\nemission_factor = 0.79  # kg CO2 per kWh\n\nsavings = {k: annual_kwh * v for k,v in tariff_rates.items()}\nco2_tonnes = (annual_kwh * emission_factor) / 1000.0\n\nprint('Savings by tariff scenario:')\nfor k,v in savings.items():\n    print(f\"  {k}: \u20b9{v:,.2f}\")\nprint(f'CO2 avoided (tonnes/year): {co2_tonnes:.3f}')\n\n# Plot savings bar chart\nplt.figure(figsize=(8,5))\nnames = list(savings.keys())\nvalues = [savings[n] for n in names]\nplt.bar(names, values)\nplt.ylabel('Estimated yearly savings (\u20b9)')\nplt.title('Annual savings by tariff scenario')\nplt.tight_layout()\nout_png2 = 'savings_by_tariff.png'\nplt.savefig(out_png2, dpi=150)\nplt.show()\nprint('Saved', out_png2)\n"
      ]
    },
    {
      "cell_type": "code",
      "execution_count": null,
      "metadata": {},
      "outputs": [],
      "source": [
        "# Save metrics CSV and markdown report\nmetrics = {\n    'annual_kwh': annual_kwh,\n    'co2_tonnes_per_year': round(co2_tonnes,3),\n    'savings_low_rpy_per_year': round(savings['Low (\u20b92.03/kWh)'],2),\n    'savings_mid_rpy_per_year': round(savings['Mid (\u20b96.50/kWh)'],2),\n    'savings_high_rpy_per_year': round(savings['High (\u20b911.00/kWh)'],2),\n}\nimport pandas as pd\nmetrics_df = pd.DataFrame([metrics])\nmetrics_df.to_csv('project_metrics_summary.csv', index=False)\n\nmd = f\"\"\"# Short Report (auto-generated)\\n\\n**Annual kWh:** {annual_kwh} kWh\\n\\n**CO2 avoided:** {metrics['co2_tonnes_per_year']} tonnes/year\\n\\n**Estimated yearly savings:**\\n- Low (\u20b92.03/kWh): \u20b9{metrics['savings_low_rpy_per_year']:,}\\n- Mid (\u20b96.50/kWh): \u20b9{metrics['savings_mid_rpy_per_year']:,}\\n- High (\u20b911.00/kWh): \u20b9{metrics['savings_high_rpy_per_year']:,}\\n\"\"\"\nwith open('short_report_auto.md','w') as f:\n    f.write(md)\nprint('Wrote project_metrics_summary.csv and short_report_auto.md')\n"
      ]
    }
  ],
  "metadata": {
    "kernelspec": {
      "display_name": "Python 3",
      "language": "python",
      "name": "python3"
    },
    "language_info": {
      "name": "python",
      "version": "3.10"
    }
  },
  "nbformat": 4,
  "nbformat_minor": 2
}